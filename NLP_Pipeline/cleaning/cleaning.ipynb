{
 "cells": [
  {
   "cell_type": "code",
   "execution_count": 1,
   "metadata": {},
   "outputs": [],
   "source": [
    "import requests\n",
    "from bs4 import BeautifulSoup"
   ]
  },
  {
   "cell_type": "code",
   "execution_count": 2,
   "metadata": {},
   "outputs": [],
   "source": [
    "r = requests.get(\"https://www.udacity.com/courses/all\")"
   ]
  },
  {
   "cell_type": "code",
   "execution_count": 5,
   "metadata": {},
   "outputs": [],
   "source": [
    "soup = BeautifulSoup(r.text, \"lxml\")"
   ]
  },
  {
   "cell_type": "code",
   "execution_count": 6,
   "metadata": {},
   "outputs": [
    {
     "name": "stdout",
     "output_type": "stream",
     "text": [
      "Number of Courses: 246\n"
     ]
    }
   ],
   "source": [
    "summaries = soup.find_all(\"div\", {\"class\":\"course-summary-card\"})\n",
    "print('Number of Courses:', len(summaries))"
   ]
  },
  {
   "cell_type": "code",
   "execution_count": 7,
   "metadata": {},
   "outputs": [
    {
     "name": "stdout",
     "output_type": "stream",
     "text": [
      "<div _ngcontent-sc191=\"\" class=\"course-summary-card row row-gap-medium catalog-card nanodegree-card ng-star-inserted\">\n",
      " <ir-catalog-card _ngcontent-sc191=\"\" _nghost-sc194=\"\">\n",
      "  <div _ngcontent-sc194=\"\" class=\"card-wrapper is-collapsed\">\n",
      "   <div _ngcontent-sc194=\"\" class=\"card__inner card mb-0\">\n",
      "    <div _ngcontent-sc194=\"\" class=\"card__inner--upper\">\n",
      "     <div _ngcontent-sc194=\"\" class=\"image_wrapper hidden-md-down\">\n",
      "      <a _ngcontent-sc194=\"\" href=\"/course/activation-and-retention-strategy--nd037-2\">\n",
      "       <!-- -->\n",
      "       <div _ngcontent-sc194=\"\" class=\"image-container ng-star-inserted\" style=\"background-image:url(https://d20vrrgs8k4bvw.cloudfront.net/images/degrees/nd037/catalog+image+nd037-2.jpg);\">\n",
      "        <div _ngcontent-sc194=\"\" class=\"image-overlay\">\n",
      "        </div>\n",
      "       </div>\n",
      "      </a>\n",
      "      <!-- -->\n",
      "     </div>\n",
      "     <div _ngcontent-sc194=\"\" class=\"card-content\">\n",
      "      <!-- -->\n",
      "      <span _ngcontent-sc194=\"\" class=\"tag tag--new card ng-star-inserted\">\n",
      "       New\n",
      "      </span>\n",
      "      <!-- -->\n",
      "      <div _ngcontent-sc194=\"\" class=\"category-wrapper\">\n",
      "       <span _ngcontent-sc194=\"\" class=\"mobile-icon\">\n",
      "       </span>\n",
      "       <!-- -->\n",
      "       <h4 _ngcontent-sc194=\"\" class=\"category ng-star-inserted\">\n",
      "        School of Business\n",
      "       </h4>\n",
      "      </div>\n",
      "      <h3 _ngcontent-sc194=\"\" class=\"card-heading\">\n",
      "       <a _ngcontent-sc194=\"\" class=\"capitalize\" href=\"/course/activation-and-retention-strategy--nd037-2\">\n",
      "        Activation and Retention Strategy\n",
      "       </a>\n",
      "      </h3>\n",
      "      <div _ngcontent-sc194=\"\" class=\"right-sub\">\n",
      "       <!-- -->\n",
      "       <div _ngcontent-sc194=\"\" class=\"skills ng-star-inserted\">\n",
      "        <h4 _ngcontent-sc194=\"\">\n",
      "         Skills Covered\n",
      "        </h4>\n",
      "        <span _ngcontent-sc194=\"\" class=\"truncate-content\">\n",
      "         <!-- -->\n",
      "         <span _ngcontent-sc194=\"\" class=\"ng-star-inserted\">\n",
      "          Product Management,\n",
      "         </span>\n",
      "         <span _ngcontent-sc194=\"\" class=\"ng-star-inserted\">\n",
      "          Activation Funnels,\n",
      "         </span>\n",
      "         <span _ngcontent-sc194=\"\" class=\"ng-star-inserted\">\n",
      "          Retention Analysis,\n",
      "         </span>\n",
      "         <span _ngcontent-sc194=\"\" class=\"ng-star-inserted\">\n",
      "          Churn Analysis,\n",
      "         </span>\n",
      "         <span _ngcontent-sc194=\"\" class=\"ng-star-inserted\">\n",
      "          Segment Analysis,\n",
      "         </span>\n",
      "         <span _ngcontent-sc194=\"\" class=\"ng-star-inserted\">\n",
      "          User Engagement,\n",
      "         </span>\n",
      "         <span _ngcontent-sc194=\"\" class=\"ng-star-inserted\">\n",
      "          Cohort Analysis\n",
      "         </span>\n",
      "        </span>\n",
      "       </div>\n",
      "       <!-- -->\n",
      "       <div _ngcontent-sc194=\"\" class=\"hidden-md-up level\">\n",
      "        <span _ngcontent-sc194=\"\" class=\"course-level course-level-intermediate\" classname=\"course-level course-level-intermediate\">\n",
      "        </span>\n",
      "        <span _ngcontent-sc194=\"\" class=\"capitalize\">\n",
      "         intermediate\n",
      "        </span>\n",
      "       </div>\n",
      "      </div>\n",
      "     </div>\n",
      "    </div>\n",
      "    <div _ngcontent-sc194=\"\" class=\"card__inner--lower hidden-sm-down\">\n",
      "     <div _ngcontent-sc194=\"\" class=\"left uppercase blue expander pointer\">\n",
      "      <!-- -->\n",
      "      <span _ngcontent-sc194=\"\" class=\"ng-star-inserted\">\n",
      "       Program Details\n",
      "      </span>\n",
      "      <!-- -->\n",
      "     </div>\n",
      "     <div _ngcontent-sc194=\"\" class=\"right\">\n",
      "      <!-- -->\n",
      "      <span _ngcontent-sc194=\"\" class=\"caption text-right level ng-star-inserted\">\n",
      "       <span _ngcontent-sc194=\"\" class=\"course-level course-level-intermediate\" classname=\"course-level course-level-intermediate\">\n",
      "       </span>\n",
      "       <span _ngcontent-sc194=\"\" class=\"capitalize\">\n",
      "        intermediate\n",
      "       </span>\n",
      "      </span>\n",
      "     </div>\n",
      "    </div>\n",
      "   </div>\n",
      "   <div _ngcontent-sc194=\"\" class=\"card__expander\">\n",
      "    <div _ngcontent-sc194=\"\" class=\"card__expander--summary mb-1\">\n",
      "     <!-- -->\n",
      "     <span _ngcontent-sc194=\"\" class=\"ng-star-inserted\">\n",
      "      Hone specialized Product Management skills in activation and retention strategy. Guide users through the activation funnel as fast as possible, so they reach your product’s aha-moment, and deploy experiments to improve customer lifetime value and decrease churn.\n",
      "     </span>\n",
      "    </div>\n",
      "    <hr _ngcontent-sc194=\"\"/>\n",
      "    <div _ngcontent-sc194=\"\" class=\"card__expander--details\">\n",
      "     <div _ngcontent-sc194=\"\" class=\"rating\">\n",
      "      <!-- -->\n",
      "     </div>\n",
      "     <a _ngcontent-sc194=\"\" class=\"button--primary btn\" href=\"/course/activation-and-retention-strategy--nd037-2\">\n",
      "      Learn More\n",
      "     </a>\n",
      "    </div>\n",
      "   </div>\n",
      "  </div>\n",
      " </ir-catalog-card>\n",
      " <!-- -->\n",
      "</div>\n",
      "\n"
     ]
    }
   ],
   "source": [
    "print(summaries[0].prettify())"
   ]
  },
  {
   "cell_type": "code",
   "execution_count": 8,
   "metadata": {},
   "outputs": [
    {
     "data": {
      "text/plain": [
       "'Activation and Retention Strategy'"
      ]
     },
     "execution_count": 8,
     "metadata": {},
     "output_type": "execute_result"
    }
   ],
   "source": [
    "summaries[0].select_one(\"h3\").get_text().strip()"
   ]
  },
  {
   "cell_type": "code",
   "execution_count": 9,
   "metadata": {},
   "outputs": [
    {
     "data": {
      "text/plain": [
       "'School of Business'"
      ]
     },
     "execution_count": 9,
     "metadata": {},
     "output_type": "execute_result"
    }
   ],
   "source": [
    "summaries[0].select_one(\"h4\").get_text().strip()"
   ]
  },
  {
   "cell_type": "code",
   "execution_count": 10,
   "metadata": {},
   "outputs": [],
   "source": [
    "courses = []\n",
    "for summary in summaries:\n",
    "    # append name and school of each summary to courses list\n",
    "    title = summary.select_one(\"h3\").get_text().strip()\n",
    "    school = summary.select_one(\"h4\").get_text().strip()\n",
    "    courses.append((title, school))"
   ]
  },
  {
   "cell_type": "code",
   "execution_count": 11,
   "metadata": {},
   "outputs": [
    {
     "name": "stdout",
     "output_type": "stream",
     "text": [
      "246 course summaries found. Sample:\n"
     ]
    },
    {
     "data": {
      "text/plain": [
       "[('Activation and Retention Strategy', 'School of Business'),\n",
       " ('AI for Healthcare', 'School of Artificial Intelligence'),\n",
       " ('AWS Cloud Architect', 'School of Cloud Computing'),\n",
       " ('Intel® Edge AI for IoT Developers', 'School of Artificial Intelligence'),\n",
       " ('Growth and Acquisition Strategy', 'School of Business'),\n",
       " ('Growth Product Manager', 'School of Business'),\n",
       " ('Product Manager', 'School of Business'),\n",
       " ('AI for Business Leaders', 'School of Business'),\n",
       " ('Intro to Machine Learning with TensorFlow',\n",
       "  'School of Artificial Intelligence'),\n",
       " ('UX Designer', 'School of Business'),\n",
       " ('Data Streaming', 'School of Data Science'),\n",
       " ('Front End Web Developer', 'School of Programming'),\n",
       " ('Full Stack Web Developer', 'School of Programming'),\n",
       " ('Java Developer', 'School of Programming'),\n",
       " ('AI Product Manager', 'School of Artificial Intelligence'),\n",
       " ('Sensor Fusion Engineer', 'School of Autonomous Systems'),\n",
       " ('Data Visualization', 'School of Data Science'),\n",
       " ('Cloud Developer', 'School of Cloud Computing'),\n",
       " ('Cloud DevOps Engineer', 'School of Cloud Computing'),\n",
       " ('Intro to Machine Learning with PyTorch',\n",
       "  'School of Artificial Intelligence')]"
      ]
     },
     "execution_count": 11,
     "metadata": {},
     "output_type": "execute_result"
    }
   ],
   "source": [
    "print(len(courses), \"course summaries found. Sample:\")\n",
    "courses[:20]"
   ]
  },
  {
   "cell_type": "code",
   "execution_count": null,
   "metadata": {},
   "outputs": [],
   "source": []
  }
 ],
 "metadata": {
  "kernelspec": {
   "display_name": "Python 3",
   "language": "python",
   "name": "python3"
  },
  "language_info": {
   "codemirror_mode": {
    "name": "ipython",
    "version": 3
   },
   "file_extension": ".py",
   "mimetype": "text/x-python",
   "name": "python",
   "nbconvert_exporter": "python",
   "pygments_lexer": "ipython3",
   "version": "3.8.2"
  }
 },
 "nbformat": 4,
 "nbformat_minor": 4
}
